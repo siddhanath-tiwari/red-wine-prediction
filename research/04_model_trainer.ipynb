{
 "cells": [],
 "metadata": {
  "kernelspec": {
   "display_name": "mlproj",
   "language": "python",
   "name": "python3"
  },
  "language_info": {
   "name": "python",
   "version": "3.8.20"
  }
 },
 "nbformat": 4,
 "nbformat_minor": 2
}
